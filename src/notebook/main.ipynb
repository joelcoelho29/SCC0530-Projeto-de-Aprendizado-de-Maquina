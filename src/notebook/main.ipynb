{
 "cells": [
  {
   "attachments": {},
   "cell_type": "markdown",
   "metadata": {},
   "source": [
    "# **Projeto de Aprendizado de Máquina**\n",
    "\n",
    "## Integrantes\n",
    "> Heitor Pupim Assuncao Toledo - 11372858\n",
    "\n",
    "> João Lucas Pereira de Souza - 10994311\n",
    "\n",
    "> Joel Felipe Coelho - 4865826\n",
    "\n",
    "> Leonardo Zaniboni Silva - 11801049\n",
    "\n",
    "\n",
    "\n",
    "O dataset escolhido para esse projeto é o de Dados de Previsão de AVC (Acidente Vascular Cerebral) que pode ser encontrado através do link abaixo:\n",
    "https://www.kaggle.com/datasets/fedesoriano/stroke-prediction-dataset\n",
    "\n",
    "---\n",
    "\n",
    "## **Contexto**\n",
    "AVC significa Acidente Vascular Cerebral. É uma condição médica que ocorre quando o suprimento de sangue para uma parte do cérebro é interrompido ou reduzido, levando a danos nas células cerebrais devido à falta de oxigênio e nutrientes. Existem dois tipos principais de AVC:\n",
    "\n",
    "- **AVC Isquêmico:** É o tipo mais comum de AVC e ocorre quando um vaso sanguíneo que fornece sangue ao cérebro é bloqueado por um coágulo de sangue ou por um estreitamento do vaso.\n",
    "\n",
    "- **AVC Hemorrágico:** Nesse tipo de AVC, um vaso sanguíneo no cérebro se rompe, resultando em sangramento no cérebro.\n",
    "\n",
    "Os AVCs são uma condição médica grave e podem ter consequências graves, como déficits neurológicos, paralisia, problemas de fala, perda de memória, entre outros. O tratamento imediato é crucial para minimizar os danos e as complicações associadas ao AVC. Segundo a Organização Mundial da Saúde (OMS), o AVC é a 2ª principal causa de morte no mundo, responsável por aproximadamente 11% do total de mortes. O objetivo deste projeto é prever se um paciente tem probabilidade de sofrer um derrame com base em vários parâmetros de entrada, como sexo, idade, presença de hipertensão, doença cardíaca, estado civil, tipo de trabalho, tipo de residência, nível médio de glicose no sangue, índice de massa corporal e status de tabagismo.\n",
    "Cada linha do conjunto de dados contém informações relevantes sobre um paciente. A tabela inclui as seguintes informações:\n",
    "\n",
    "**Informações contidas na tabela**\n",
    "1. id: identificador único\n",
    "2. gender: \"Male\", \"Female\" ou \"Other\"\n",
    "3. age: idade do paciente\n",
    "4. hypertension: 0 se o paciente não tem hipertensão, 1 se o paciente tem hipertensão\n",
    "5. heart_disease: 0 se o paciente não tiver nenhuma doença cardíaca, 1 se o paciente tiver uma doença cardíaca\n",
    "6. ever_married: \"No\" ou \"Yes\"\n",
    "7. work_type: \"children\", \"Govt_jov\", \"Never_worked\", \"Private\" ou \"Self-employed\"\n",
    "8. Residence_type: \"Rural\" ou \"Urban\"\n",
    "9. avg_glucose_level: nível médio de glicose no sangue\n",
    "10. bmi: índice de massa corporal\n",
    "11. smoking_status: \"formerly smoked\", \"never smoked\", \"smokes\" ou \"Unknown\"*\n",
    "12. stroke: 1 se o paciente teve AVC ou 0 se não\n",
    "\n",
    "**Observação:** \"Unknown\" em smoking_status significa que as informações não estão disponíveis para este paciente, ou seja, teremos que lidar com essa informação na etapa de pré processamento.\n",
    "\n",
    "---"
   ]
  },
  {
   "attachments": {},
   "cell_type": "markdown",
   "metadata": {},
   "source": [
    "## Importação das bibliotecas e recursos necessários\n",
    "\n",
    "As seguintes bibliotecas foram importadas para o projeto:\n",
    "\n",
    "*- pandas:* Uma biblioteca de análise de dados que fornece estruturas de dados e ferramentas para manipulação e análise de dados. <br>\n",
    "*- numpy:* Uma biblioteca numérica que fornece suporte para trabalhar com arrays multidimensionais e funções matemáticas. <br>\n",
    "*- matplotlib.pyplot:* Uma biblioteca de visualização de dados que fornece funções para criar gráficos e visualizações. <br>\n",
    "*- pydotplus:* Uma biblioteca para a geração e visualização de grafos. <br>\n",
    "*- seaborn:* Uma biblioteca de visualização de dados baseada no matplotlib que fornece uma interface de alto nível para criar gráficos estatísticos atraentes. <br> <br>\n",
    "\n",
    "Em relação aos classificadores e outras funcionalidades:\n",
    "\n",
    "*- GaussianNB:* Implementa o algoritmo Naive Bayes para classificação baseado no teorema de Bayes. <br>\n",
    "*- MLPClassifier:* Implementa uma rede neural multicamada para classificação. <br>\n",
    "*- GridSearchCV:* Uma classe que realiza uma busca exaustiva em uma grade de hiperparâmetros para encontrar os melhores parâmetros para um estimador. <br>\n",
    "*- KNeighborsClassifier:* Implementa o algoritmo de classificação K-Vizinhos Mais Próximos (K-Nearest Neighbors). <br>\n",
    "*- DecisionTreeClassifier:* Implementa um algoritmo de árvore de decisão para classificação. <br>\n",
    "*- MinMaxScaler:* Um escalador que normaliza os recursos de forma que fiquem dentro de um intervalo específico. <br>\n",
    "\n",
    "Além disso, também foram importados outros módulos e funções relacionados ao treinamento, avaliação e visualização de modelos de aprendizado de máquina, como train_test_split, export_graphviz, cross_val_score, StringIO, Image. Essas bibliotecas e funcionalidades são essenciais para realizar tarefas como divisão de dados, criação de visualizações de árvore de decisão e avaliação de modelos.\n",
    "\n",
    "---"
   ]
  },
  {
   "cell_type": "code",
   "execution_count": 1,
   "metadata": {},
   "outputs": [],
   "source": [
    "# Import das bibliotecas necessárias para o aprendizado\n",
    "import pandas as pd\n",
    "import numpy as np\n",
    "import matplotlib.pyplot as plt\n",
    "import pydotplus\n",
    "import seaborn as sns\n",
    "\n",
    "# Classificadores e afins..\n",
    "from sklearn.naive_bayes import GaussianNB\n",
    "from sklearn.neural_network import MLPClassifier\n",
    "from sklearn.model_selection import GridSearchCV\n",
    "from sklearn.neighbors import KNeighborsClassifier\n",
    "from sklearn.tree import DecisionTreeClassifier\n",
    "from sklearn.preprocessing import MinMaxScaler\n",
    "\n",
    "from sklearn.model_selection import train_test_split\n",
    "from sklearn.tree import export_graphviz\n",
    "from sklearn.model_selection import cross_val_score\n",
    "\n",
    "from six import StringIO\n",
    "from IPython.display import Image"
   ]
  },
  {
   "attachments": {},
   "cell_type": "markdown",
   "metadata": {},
   "source": [
    "## Preview do dataset"
   ]
  },
  {
   "cell_type": "code",
   "execution_count": 58,
   "metadata": {},
   "outputs": [
    {
     "data": {
      "text/html": [
       "<div>\n",
       "<style scoped>\n",
       "    .dataframe tbody tr th:only-of-type {\n",
       "        vertical-align: middle;\n",
       "    }\n",
       "\n",
       "    .dataframe tbody tr th {\n",
       "        vertical-align: top;\n",
       "    }\n",
       "\n",
       "    .dataframe thead th {\n",
       "        text-align: right;\n",
       "    }\n",
       "</style>\n",
       "<table border=\"1\" class=\"dataframe\">\n",
       "  <thead>\n",
       "    <tr style=\"text-align: right;\">\n",
       "      <th></th>\n",
       "      <th>gender</th>\n",
       "      <th>age</th>\n",
       "      <th>hypertension</th>\n",
       "      <th>heart_disease</th>\n",
       "      <th>ever_married</th>\n",
       "      <th>work_type</th>\n",
       "      <th>Residence_type</th>\n",
       "      <th>avg_glucose_level</th>\n",
       "      <th>bmi</th>\n",
       "      <th>smoking_status</th>\n",
       "      <th>stroke</th>\n",
       "    </tr>\n",
       "    <tr>\n",
       "      <th>id</th>\n",
       "      <th></th>\n",
       "      <th></th>\n",
       "      <th></th>\n",
       "      <th></th>\n",
       "      <th></th>\n",
       "      <th></th>\n",
       "      <th></th>\n",
       "      <th></th>\n",
       "      <th></th>\n",
       "      <th></th>\n",
       "      <th></th>\n",
       "    </tr>\n",
       "  </thead>\n",
       "  <tbody>\n",
       "    <tr>\n",
       "      <th>9046</th>\n",
       "      <td>Male</td>\n",
       "      <td>67.0</td>\n",
       "      <td>0</td>\n",
       "      <td>1</td>\n",
       "      <td>Yes</td>\n",
       "      <td>Private</td>\n",
       "      <td>Urban</td>\n",
       "      <td>228.69</td>\n",
       "      <td>36.6</td>\n",
       "      <td>formerly smoked</td>\n",
       "      <td>1</td>\n",
       "    </tr>\n",
       "    <tr>\n",
       "      <th>51676</th>\n",
       "      <td>Female</td>\n",
       "      <td>61.0</td>\n",
       "      <td>0</td>\n",
       "      <td>0</td>\n",
       "      <td>Yes</td>\n",
       "      <td>Self-employed</td>\n",
       "      <td>Rural</td>\n",
       "      <td>202.21</td>\n",
       "      <td>NaN</td>\n",
       "      <td>never smoked</td>\n",
       "      <td>1</td>\n",
       "    </tr>\n",
       "    <tr>\n",
       "      <th>31112</th>\n",
       "      <td>Male</td>\n",
       "      <td>80.0</td>\n",
       "      <td>0</td>\n",
       "      <td>1</td>\n",
       "      <td>Yes</td>\n",
       "      <td>Private</td>\n",
       "      <td>Rural</td>\n",
       "      <td>105.92</td>\n",
       "      <td>32.5</td>\n",
       "      <td>never smoked</td>\n",
       "      <td>1</td>\n",
       "    </tr>\n",
       "    <tr>\n",
       "      <th>60182</th>\n",
       "      <td>Female</td>\n",
       "      <td>49.0</td>\n",
       "      <td>0</td>\n",
       "      <td>0</td>\n",
       "      <td>Yes</td>\n",
       "      <td>Private</td>\n",
       "      <td>Urban</td>\n",
       "      <td>171.23</td>\n",
       "      <td>34.4</td>\n",
       "      <td>smokes</td>\n",
       "      <td>1</td>\n",
       "    </tr>\n",
       "    <tr>\n",
       "      <th>1665</th>\n",
       "      <td>Female</td>\n",
       "      <td>79.0</td>\n",
       "      <td>1</td>\n",
       "      <td>0</td>\n",
       "      <td>Yes</td>\n",
       "      <td>Self-employed</td>\n",
       "      <td>Rural</td>\n",
       "      <td>174.12</td>\n",
       "      <td>24.0</td>\n",
       "      <td>never smoked</td>\n",
       "      <td>1</td>\n",
       "    </tr>\n",
       "    <tr>\n",
       "      <th>...</th>\n",
       "      <td>...</td>\n",
       "      <td>...</td>\n",
       "      <td>...</td>\n",
       "      <td>...</td>\n",
       "      <td>...</td>\n",
       "      <td>...</td>\n",
       "      <td>...</td>\n",
       "      <td>...</td>\n",
       "      <td>...</td>\n",
       "      <td>...</td>\n",
       "      <td>...</td>\n",
       "    </tr>\n",
       "    <tr>\n",
       "      <th>18234</th>\n",
       "      <td>Female</td>\n",
       "      <td>80.0</td>\n",
       "      <td>1</td>\n",
       "      <td>0</td>\n",
       "      <td>Yes</td>\n",
       "      <td>Private</td>\n",
       "      <td>Urban</td>\n",
       "      <td>83.75</td>\n",
       "      <td>NaN</td>\n",
       "      <td>never smoked</td>\n",
       "      <td>0</td>\n",
       "    </tr>\n",
       "    <tr>\n",
       "      <th>44873</th>\n",
       "      <td>Female</td>\n",
       "      <td>81.0</td>\n",
       "      <td>0</td>\n",
       "      <td>0</td>\n",
       "      <td>Yes</td>\n",
       "      <td>Self-employed</td>\n",
       "      <td>Urban</td>\n",
       "      <td>125.20</td>\n",
       "      <td>40.0</td>\n",
       "      <td>never smoked</td>\n",
       "      <td>0</td>\n",
       "    </tr>\n",
       "    <tr>\n",
       "      <th>19723</th>\n",
       "      <td>Female</td>\n",
       "      <td>35.0</td>\n",
       "      <td>0</td>\n",
       "      <td>0</td>\n",
       "      <td>Yes</td>\n",
       "      <td>Self-employed</td>\n",
       "      <td>Rural</td>\n",
       "      <td>82.99</td>\n",
       "      <td>30.6</td>\n",
       "      <td>never smoked</td>\n",
       "      <td>0</td>\n",
       "    </tr>\n",
       "    <tr>\n",
       "      <th>37544</th>\n",
       "      <td>Male</td>\n",
       "      <td>51.0</td>\n",
       "      <td>0</td>\n",
       "      <td>0</td>\n",
       "      <td>Yes</td>\n",
       "      <td>Private</td>\n",
       "      <td>Rural</td>\n",
       "      <td>166.29</td>\n",
       "      <td>25.6</td>\n",
       "      <td>formerly smoked</td>\n",
       "      <td>0</td>\n",
       "    </tr>\n",
       "    <tr>\n",
       "      <th>44679</th>\n",
       "      <td>Female</td>\n",
       "      <td>44.0</td>\n",
       "      <td>0</td>\n",
       "      <td>0</td>\n",
       "      <td>Yes</td>\n",
       "      <td>Govt_job</td>\n",
       "      <td>Urban</td>\n",
       "      <td>85.28</td>\n",
       "      <td>26.2</td>\n",
       "      <td>Unknown</td>\n",
       "      <td>0</td>\n",
       "    </tr>\n",
       "  </tbody>\n",
       "</table>\n",
       "<p>5110 rows × 11 columns</p>\n",
       "</div>"
      ],
      "text/plain": [
       "       gender   age  hypertension  heart_disease ever_married      work_type  \\\n",
       "id                                                                             \n",
       "9046     Male  67.0             0              1          Yes        Private   \n",
       "51676  Female  61.0             0              0          Yes  Self-employed   \n",
       "31112    Male  80.0             0              1          Yes        Private   \n",
       "60182  Female  49.0             0              0          Yes        Private   \n",
       "1665   Female  79.0             1              0          Yes  Self-employed   \n",
       "...       ...   ...           ...            ...          ...            ...   \n",
       "18234  Female  80.0             1              0          Yes        Private   \n",
       "44873  Female  81.0             0              0          Yes  Self-employed   \n",
       "19723  Female  35.0             0              0          Yes  Self-employed   \n",
       "37544    Male  51.0             0              0          Yes        Private   \n",
       "44679  Female  44.0             0              0          Yes       Govt_job   \n",
       "\n",
       "      Residence_type  avg_glucose_level   bmi   smoking_status  stroke  \n",
       "id                                                                      \n",
       "9046           Urban             228.69  36.6  formerly smoked       1  \n",
       "51676          Rural             202.21   NaN     never smoked       1  \n",
       "31112          Rural             105.92  32.5     never smoked       1  \n",
       "60182          Urban             171.23  34.4           smokes       1  \n",
       "1665           Rural             174.12  24.0     never smoked       1  \n",
       "...              ...                ...   ...              ...     ...  \n",
       "18234          Urban              83.75   NaN     never smoked       0  \n",
       "44873          Urban             125.20  40.0     never smoked       0  \n",
       "19723          Rural              82.99  30.6     never smoked       0  \n",
       "37544          Rural             166.29  25.6  formerly smoked       0  \n",
       "44679          Urban              85.28  26.2          Unknown       0  \n",
       "\n",
       "[5110 rows x 11 columns]"
      ]
     },
     "execution_count": 58,
     "metadata": {},
     "output_type": "execute_result"
    }
   ],
   "source": [
    "# Lendo  o arquivo CSV que contém o dataset escolhido, o qual está disponível em ../dataset/healthcare-dataset-stroke-data.csv\n",
    "dataset = pd.read_csv('../dataset/healthcare-dataset-stroke-data.csv', sep=',', index_col=0, na_values='?')\n",
    "dataset"
   ]
  },
  {
   "attachments": {},
   "cell_type": "markdown",
   "metadata": {},
   "source": [
    "---"
   ]
  },
  {
   "attachments": {},
   "cell_type": "markdown",
   "metadata": {},
   "source": [
    "# Pré-processamento dos dados\n",
    "\n",
    "### **1) Tratamento de valores ausentes**\n",
    "\n",
    "Na etapa de pré-processamento dos dados, é necessário lidar com valores ausentes no dataset. Valores ausentes podem ocorrer quando informações faltam ou não estão disponíveis para determinadas instâncias ou atributos. Uma abordagem comum é eliminar as linhas que possuem dados faltantes, também conhecidas como instâncias incompletas. Isso significa que as linhas que contêm pelo menos um valor ausente serão removidas do conjunto de dados.\n",
    "\n",
    "Ao remover as linhas com dados faltantes, garante-se que todas as instâncias no conjunto de dados tenham informações completas para os atributos relevantes. No entanto, é importante considerar que a remoção de linhas com dados faltantes pode levar à perda de informações potencialmente úteis, especialmente se as instâncias removidas possuírem outros atributos valiosos. \n",
    "\n",
    "Um ponto a se destacar é que removeremos as linhas com dados faltantes apenas para os atributos que serão utilizados no treinamento dos modelos. Isso significa que removeremos as linhas com dados faltantes para o atributo \"smoking_status\", pois esse atributo **será** utilizado no treinamento dos modelos."
   ]
  },
  {
   "cell_type": "code",
   "execution_count": 59,
   "metadata": {},
   "outputs": [],
   "source": [
    "dataset.columns = map(str.lower, dataset.columns)"
   ]
  },
  {
   "cell_type": "code",
   "execution_count": 60,
   "metadata": {},
   "outputs": [
    {
     "name": "stdout",
     "output_type": "stream",
     "text": [
      "<class 'pandas.core.frame.DataFrame'>\n",
      "Int64Index: 5110 entries, 9046 to 44679\n",
      "Data columns (total 11 columns):\n",
      " #   Column             Non-Null Count  Dtype  \n",
      "---  ------             --------------  -----  \n",
      " 0   gender             5110 non-null   object \n",
      " 1   age                5110 non-null   float64\n",
      " 2   hypertension       5110 non-null   int64  \n",
      " 3   heart_disease      5110 non-null   int64  \n",
      " 4   ever_married       5110 non-null   object \n",
      " 5   work_type          5110 non-null   object \n",
      " 6   residence_type     5110 non-null   object \n",
      " 7   avg_glucose_level  5110 non-null   float64\n",
      " 8   bmi                4909 non-null   float64\n",
      " 9   smoking_status     5110 non-null   object \n",
      " 10  stroke             5110 non-null   int64  \n",
      "dtypes: float64(3), int64(3), object(5)\n",
      "memory usage: 479.1+ KB\n"
     ]
    }
   ],
   "source": [
    "dataset.info()"
   ]
  },
  {
   "cell_type": "code",
   "execution_count": null,
   "metadata": {},
   "outputs": [],
   "source": []
  },
  {
   "cell_type": "code",
   "execution_count": 61,
   "metadata": {},
   "outputs": [],
   "source": [
    "# Elimina as linhas com dados faltantes, além das linhas que apresentam o valor \"Unknown\" na coluna \"smoking_status\"\n",
    "\n",
    "#preenchendo nulos de bmi com a media\n",
    "dataset = dataset.fillna(dataset['bmi'].mean())\n",
    "dataset = dataset[dataset['smoking_status'] != 'Unknown']\n"
   ]
  },
  {
   "attachments": {},
   "cell_type": "markdown",
   "metadata": {},
   "source": [
    "No total, o dataset possui 5110 linhas, todavia, como podemos observar, o atributo \"smoking_status\" possui 1684 valores ausentes. Após a remoção das linhas com dados faltantes, o dataset passará a ter 3426 linhas.\n",
    "\n",
    "---"
   ]
  },
  {
   "attachments": {},
   "cell_type": "markdown",
   "metadata": {},
   "source": [
    "### **2) Verificando balanceamento das classes**\n",
    "\n",
    "Verificar o balanceamento das classes é um passo crucial durante o pré-processamento dos dados. O balanceamento das classes refere-se à distribuição proporcional dos exemplos de cada classe dentro do conjunto de dados. Quando há um desequilíbrio significativo entre as classes, ou seja, algumas classes têm um número muito maior de exemplos do que outras, podem surgir desafios na modelagem e avaliação do desempenho do modelo de aprendizado de máquina.\n",
    "\n",
    "Se houver um desbalanceamento substancial entre as classes, pode ser necessário aplicar técnicas de pré-processamento para lidar com esse desequilíbrio. *Existem várias abordagens para balancear as classes, como oversampling (aumentar o número de exemplos das classes minoritárias), undersampling (reduzir o número de exemplos das classes majoritárias) ou uma combinação de ambas as técnicas.*\n",
    "\n",
    "Por outro lado, **em certos casos, pode ser indicado manter a proporção natural das classes. Isso ocorre quando a distribuição desigual é uma característica legítima do problema em estudo e é importante refletir essa disparidade nas classes no modelo.**\n",
    "\n",
    "Em vista disso, iremos analisar o balanceamento das classes no dataset. O atributo \"stroke\" é o atributo de classe, ou seja, é o atributo que queremos prever. **Esse atributo possui duas classes: 0 e 1. A classe 0 significa que o paciente não teve AVC e a classe 1 significa que o paciente teve AVC.**"
   ]
  },
  {
   "cell_type": "code",
   "execution_count": 14,
   "metadata": {},
   "outputs": [],
   "source": [
    "# Plota um gráfico com a quantidade de indivíduos que apresentaram AVC e que não apresentaram AVC\n",
    "\n",
    "# stroke_count = dataset[\"stroke\"].value_counts()\n",
    "# percentage = stroke_count / len(dataset) * 100\n",
    "\n",
    "# stroke_count\n",
    "\n",
    "# plt.bar(percentage.index, percentage.values)\n",
    "# plt.xlabel('AVC')\n",
    "# plt.ylabel('Porcentagem')\n",
    "\n",
    "# plt.title('Porcentagem de ocorrência de AVC')\n",
    "\n",
    "# plt.show()"
   ]
  },
  {
   "cell_type": "code",
   "execution_count": 12,
   "metadata": {},
   "outputs": [
    {
     "name": "stderr",
     "output_type": "stream",
     "text": [
      "/home/heitorpupim/.local/lib/python3.8/site-packages/seaborn/_decorators.py:36: FutureWarning: Pass the following variable as a keyword arg: x. From version 0.12, the only valid positional argument will be `data`, and passing other arguments without an explicit keyword will result in an error or misinterpretation.\n",
      "  warnings.warn(\n"
     ]
    },
    {
     "data": {
      "image/png": "[encoded data removed]",
      "text/plain": [
       "<Figure size 1800x800 with 2 Axes>"
      ]
     },
     "metadata": {},
     "output_type": "display_data"
    }
   ],
   "source": [
    "f, ax = plt.subplots(1 ,2 ,figsize = (18,8)) # uma linha e duas colunas de gráficos e o tamanho da figura..\n",
    "dataset['stroke'].value_counts().plot.pie(\n",
    "                                        explode = [0,0.1], # tamanho do da lacuna entre os valores do gráfico de torta\n",
    "                                        autopct ='%1.1f%%' , # \n",
    "                                        ax = ax[0], #indica onde será plotado a figura, na coluna 1.\n",
    "                                        shadow = True\n",
    "                                        )\n",
    "ax[0].set_title(\"Porcentagem de pessoas que tiveram AVC\")\n",
    "ax[0].set_ylabel('')\n",
    "# set color\n",
    "\n",
    "sns.countplot('stroke', data = dataset, ax = ax[1])\n",
    "ax[1].set_title(\"Contagem de pessoas que tiveram AVC\")\n",
    "plt.show()"
   ]
  },
  {
   "attachments": {},
   "cell_type": "markdown",
   "metadata": {},
   "source": [
    "Como podemos ver, **a quantidade de indivíduos que tiveram derrame é muito inferior, o que representa bem o contexto real dessa condição no mundo.**\n",
    "\n",
    "*Segundo dados do Global Burden of Diseases (GBD) Study, em 2019 foram registrados 12,2 milhões de casos incidentes de AVC em todo o mundo, com 6,55 milhões de mortes relacionadas a essa condição. Globalmente, o AVC é a segunda causa de morte, representando cerca de 11% das mortes totais. No Brasil, a proporção entre doenças cardíacas (IAM) e AVC foi invertida apenas recentemente, a partir de 2016, com o AVC se tornando a segunda principal causa de morte, de acordo com dados do DATASUS.*\n",
    "\n",
    "**Fonte:** https://avc.org.br/sobre-a-sbavc/numeros-do-avc-no-brasil-e-no-mundo/\n",
    "\n",
    "---\n",
    "\n",
    "Dado o contexto realista e a distribuição desigual desses casos, **é justificado manter a proporção natural do problema no conjunto de dados.** Isso significa que não faremos nenhum ajuste para equilibrar artificialmente as classes, pois isso refletiria melhor a realidade e os desafios enfrentados no diagnóstico e prevenção de AVC.\n",
    "\n",
    "Ao manter a proporção natural das classes, garantimos que o modelo seja treinado e avaliado em um cenário mais próximo do que ocorre na prática. No entanto, é importante estar ciente de que essa abordagem pode afetar a capacidade do modelo de lidar com as classes minoritárias, pois a falta de exemplos pode tornar o aprendizado dessas classes mais desafiador.\"<br>\n",
    "\n",
    "**Sendo assim, visando manter uma distribuição realista, vamos manter a proporção natural do problema.**\n",
    "\n",
    "---"
   ]
  },
  {
   "attachments": {},
   "cell_type": "markdown",
   "metadata": {},
   "source": [
    "#### **2.1) Explorando variáveis:**\n",
    "\n",
    "Nesta etapa do relatório, iremos nos aprofundar na análise das variáveis principais que podem influenciar a ocorrência do AVC (Acidente Vascular Cerebral). Essas variáveis são de grande importância para entendermos os possíveis fatores de risco e padrões associados a essa condição médica.\n",
    "\n",
    "Entre as **variáveis examinadas, destacam-se o gênero, o estado civil, a idade e outras características relevantes dos indivíduos presentes no conjunto de dados. Essas informações nos ajudarão a compreender melhor como esses fatores estão relacionados à ocorrência do AVC.**"
   ]
  },
  {
   "attachments": {},
   "cell_type": "markdown",
   "metadata": {},
   "source": [
    "#### **2.1.1 Gênero**\n",
    "\n",
    "Para avaliar se o gênero está relacionado à ocorrência de AVC, podemos analisar a distribuição de gênero entre os indivíduos que tiveram AVC e os que não tiveram. Para isso, podemos criar um gráfico de barras que mostra a proporção de homens e mulheres em cada classe."
   ]
  },
  {
   "cell_type": "code",
   "execution_count": 62,
   "metadata": {},
   "outputs": [
    {
     "data": {
      "text/plain": [
       "Female    2158\n",
       "Male      1407\n",
       "Other        1\n",
       "Name: gender, dtype: int64"
      ]
     },
     "execution_count": 62,
     "metadata": {},
     "output_type": "execute_result"
    }
   ],
   "source": [
    "\n",
    "dataset.gender.value_counts()"
   ]
  },
  {
   "cell_type": "code",
   "execution_count": 63,
   "metadata": {},
   "outputs": [],
   "source": [
    "# Iremos remover o genêro cujo valor é 'Other' uma vez que só existe uma ocorrência deste no dataset.\n",
    "\n",
    "dataset = dataset.loc[dataset.gender != 'Other']"
   ]
  },
  {
   "cell_type": "code",
   "execution_count": 64,
   "metadata": {},
   "outputs": [
    {
     "name": "stderr",
     "output_type": "stream",
     "text": [
      "/home/heitorpupim/.local/lib/python3.8/site-packages/seaborn/_decorators.py:36: FutureWarning: Pass the following variable as a keyword arg: x. From version 0.12, the only valid positional argument will be `data`, and passing other arguments without an explicit keyword will result in an error or misinterpretation.\n",
      "  warnings.warn(\n"
     ]
    },
    {
     "data": {
      "text/plain": [
       "Text(0.5, 1.0, 'Sexo: AVC vs Não AVC')"
      ]
     },
     "execution_count": 64,
     "metadata": {},
     "output_type": "execute_result"
    },
    {
     "data": {
      "image/png": "[encoded data removed]",
      "text/plain": [
       "<Figure size 1800x800 with 2 Axes>"
      ]
     },
     "metadata": {},
     "output_type": "display_data"
    }
   ],
   "source": [
    "# Plota um gráfico com a quantidade de indivíduos que apresentaram AVC e que não apresentaram AVC, separados por gênero\n",
    "\n",
    "f, ax = plt.subplots(1,2,figsize = (18,8))\n",
    "dataset[['gender', 'stroke']].groupby(['gender']).mean().plot.bar(ax = ax[0]) #gráfico da média de avc.\n",
    "ax[0].set_title('Média de AVC por sexo')\n",
    "\n",
    "sns.countplot('gender',\n",
    "              hue = 'stroke', # hue = nunace, que quer dizer para diferenciar os tons, no caso vamos fazer um count de Sexo, entao vamos diferenciar as cores por Sobreviveu ou Não Sobreviveu\n",
    "              data = dataset,\n",
    "              ax = ax[1])\n",
    "ax[1].set_title('Distribuição de pessoas que NÃO tiveram AVC por sexo')\n",
    "\n",
    "# numero de mulheres do dataset é muito maior, mesmo assim quem tem mais AVC são os homens, pois a média (grafico da esquerda é maior)"
   ]
  },
  {
   "attachments": {},
   "cell_type": "markdown",
   "metadata": {},
   "source": [
    "Como podemos observar, o gênero é um variável de fator de risco bem conhecido para o AVC. **Os homens têm maior probabilidade de ter um AVC do que as mulheres.** No entanto, as mulheres têm maior probabilidade de morrer de AVC do que os homens. Isso ocorre porque as mulheres tendem a viver mais do que os homens e, portanto, são mais velhas quando ocorre o AVC. Além disso, as mulheres têm maior probabilidade de ter um AVC hemorrágico, que é mais mortal do que um AVC isquêmico.\n",
    "\n",
    "**Outro ponto importante a se considerar é que, temos uma quantidade muito maior de mulheres no dataset do que homens, todavia, ainda sim, a quantidade de homens que tiveram AVC é maior do que a quantidade de mulheres que tiveram AVC.**"
   ]
  },
  {
   "attachments": {},
   "cell_type": "markdown",
   "metadata": {},
   "source": [
    "##### **2.1.2 Ever married**\n",
    "\n",
    "Nesta etapa da análise, examinaremos a distribuição de pessoas que tiveram AVC com base na variável do estado civil, mais especificamente se a pessoa já foi casada ou não. Essa análise nos permitirá identificar possíveis associações entre o estado civil e a ocorrência do AVC."
   ]
  },
  {
   "cell_type": "code",
   "execution_count": 65,
   "metadata": {},
   "outputs": [
    {
     "data": {
      "text/html": [
       "<style type=\"text/css\">\n",
       "#T_c8e03_row0_col0, #T_c8e03_row0_col1, #T_c8e03_row0_col2 {\n",
       "  background-color: #ffff66;\n",
       "  color: #000000;\n",
       "}\n",
       "#T_c8e03_row1_col0 {\n",
       "  background-color: #54aa66;\n",
       "  color: #f1f1f1;\n",
       "}\n",
       "#T_c8e03_row1_col1 {\n",
       "  background-color: #1d8e66;\n",
       "  color: #f1f1f1;\n",
       "}\n",
       "#T_c8e03_row1_col2 {\n",
       "  background-color: #50a866;\n",
       "  color: #f1f1f1;\n",
       "}\n",
       "#T_c8e03_row2_col0, #T_c8e03_row2_col1, #T_c8e03_row2_col2 {\n",
       "  background-color: #008066;\n",
       "  color: #f1f1f1;\n",
       "}\n",
       "</style>\n",
       "<table id=\"T_c8e03\">\n",
       "  <thead>\n",
       "    <tr>\n",
       "      <th class=\"index_name level0\" >stroke</th>\n",
       "      <th id=\"T_c8e03_level0_col0\" class=\"col_heading level0 col0\" >0</th>\n",
       "      <th id=\"T_c8e03_level0_col1\" class=\"col_heading level0 col1\" >1</th>\n",
       "      <th id=\"T_c8e03_level0_col2\" class=\"col_heading level0 col2\" >All</th>\n",
       "    </tr>\n",
       "    <tr>\n",
       "      <th class=\"index_name level0\" >ever_married</th>\n",
       "      <th class=\"blank col0\" >&nbsp;</th>\n",
       "      <th class=\"blank col1\" >&nbsp;</th>\n",
       "      <th class=\"blank col2\" >&nbsp;</th>\n",
       "    </tr>\n",
       "  </thead>\n",
       "  <tbody>\n",
       "    <tr>\n",
       "      <th id=\"T_c8e03_level0_row0\" class=\"row_heading level0 row0\" >No</th>\n",
       "      <td id=\"T_c8e03_row0_col0\" class=\"data row0 col0\" >834</td>\n",
       "      <td id=\"T_c8e03_row0_col1\" class=\"data row0 col1\" >21</td>\n",
       "      <td id=\"T_c8e03_row0_col2\" class=\"data row0 col2\" >855</td>\n",
       "    </tr>\n",
       "    <tr>\n",
       "      <th id=\"T_c8e03_level0_row1\" class=\"row_heading level0 row1\" >Yes</th>\n",
       "      <td id=\"T_c8e03_row1_col0\" class=\"data row1 col0\" >2529</td>\n",
       "      <td id=\"T_c8e03_row1_col1\" class=\"data row1 col1\" >181</td>\n",
       "      <td id=\"T_c8e03_row1_col2\" class=\"data row1 col2\" >2710</td>\n",
       "    </tr>\n",
       "    <tr>\n",
       "      <th id=\"T_c8e03_level0_row2\" class=\"row_heading level0 row2\" >All</th>\n",
       "      <td id=\"T_c8e03_row2_col0\" class=\"data row2 col0\" >3363</td>\n",
       "      <td id=\"T_c8e03_row2_col1\" class=\"data row2 col1\" >202</td>\n",
       "      <td id=\"T_c8e03_row2_col2\" class=\"data row2 col2\" >3565</td>\n",
       "    </tr>\n",
       "  </tbody>\n",
       "</table>\n"
      ],
      "text/plain": [
       "<pandas.io.formats.style.Styler at 0x7f7acd5d4520>"
      ]
     },
     "execution_count": 65,
     "metadata": {},
     "output_type": "execute_result"
    }
   ],
   "source": [
    "# Tabela cruzada\n",
    "pd.crosstab(dataset.ever_married,\n",
    "            dataset.stroke, \n",
    "            margins = True).style.background_gradient(cmap = 'summer_r')\n",
    "\n",
    "# explorando por casados: - variável categórica\n",
    "# Podemos ver que pessoas que são casadas tem mais AVC,\n",
    "# mas isso pode ser por causa da idade, pois pessoas mais velhas tendem a ser casadas."
   ]
  },
  {
   "cell_type": "code",
   "execution_count": null,
   "metadata": {},
   "outputs": [
    {
     "ename": "",
     "evalue": "",
     "output_type": "error",
     "traceback": [
      "\u001b[1;31mRunning cells with 'c:\\Users\\João Lucas Pereira\\AppData\\Local\\Microsoft\\WindowsApps\\python3.11.exe' requires the ipykernel package.\n",
      "\u001b[1;31mRun the following command to install 'ipykernel' into the Python environment. \n",
      "\u001b[1;31mCommand: '\"c:/Users/João Lucas Pereira/AppData/Local/Microsoft/WindowsApps/python3.11.exe\" -m pip install ipykernel -U --user --force-reinstall'"
     ]
    }
   ],
   "source": [
    "f, ax = plt.subplots(1,2 , figsize = (18,8))\n",
    "dataset['ever_married'].value_counts().plot.bar(color = ['red','blue'], ax = ax[0])\n",
    "ax[0].set_title('Número de pessoas casadas')\n",
    "ax[0].set_ylabel('Contagem')\n",
    "\n",
    "sns.countplot('ever_married', hue = 'stroke', data= dataset, ax = ax[1])\n",
    "ax[1].set_title('Casados: AVC vs Não AVC')\n",
    "ax[1].set_ylabel('Contagem')\n",
    "ax[1].set_xlabel(\"Casados?\")\n",
    "ax[1].set_xticklabels(['Não', 'Sim'])"
   ]
  },
  {
   "cell_type": "code",
   "execution_count": null,
   "metadata": {},
   "outputs": [
    {
     "ename": "",
     "evalue": "",
     "output_type": "error",
     "traceback": [
      "\u001b[1;31mRunning cells with 'c:\\Users\\João Lucas Pereira\\AppData\\Local\\Microsoft\\WindowsApps\\python3.11.exe' requires the ipykernel package.\n",
      "\u001b[1;31mRun the following command to install 'ipykernel' into the Python environment. \n",
      "\u001b[1;31mCommand: '\"c:/Users/João Lucas Pereira/AppData/Local/Microsoft/WindowsApps/python3.11.exe\" -m pip install ipykernel -U --user --force-reinstall'"
     ]
    }
   ],
   "source": [
    "sns.factorplot('ever_married', 'stroke', hue = \"gender\", data=dataset)\n",
    "plt.show()\n",
    "\n",
    "# homens casados tem mais AVC, mas isso pode ser por causa da idade\n",
    "# , pois pessoas mais velhas tendem a ser casadas."
   ]
  },
  {
   "attachments": {},
   "cell_type": "markdown",
   "metadata": {},
   "source": [
    "##### residence_type"
   ]
  },
  {
   "cell_type": "code",
   "execution_count": null,
   "metadata": {},
   "outputs": [
    {
     "ename": "",
     "evalue": "",
     "output_type": "error",
     "traceback": [
      "\u001b[1;31mRunning cells with 'c:\\Users\\João Lucas Pereira\\AppData\\Local\\Microsoft\\WindowsApps\\python3.11.exe' requires the ipykernel package.\n",
      "\u001b[1;31mRun the following command to install 'ipykernel' into the Python environment. \n",
      "\u001b[1;31mCommand: '\"c:/Users/João Lucas Pereira/AppData/Local/Microsoft/WindowsApps/python3.11.exe\" -m pip install ipykernel -U --user --force-reinstall'"
     ]
    }
   ],
   "source": [
    "pd.crosstab(dataset.residence_type, #na linha vamos colocar as classes dos passageiros\n",
    "            dataset.stroke, # na coluna, vamos colocar a sobrevivência.\n",
    "            margins = True).style.background_gradient(cmap = 'summer_r')"
   ]
  },
  {
   "cell_type": "code",
   "execution_count": null,
   "metadata": {},
   "outputs": [
    {
     "ename": "",
     "evalue": "",
     "output_type": "error",
     "traceback": [
      "\u001b[1;31mRunning cells with 'c:\\Users\\João Lucas Pereira\\AppData\\Local\\Microsoft\\WindowsApps\\python3.11.exe' requires the ipykernel package.\n",
      "\u001b[1;31mRun the following command to install 'ipykernel' into the Python environment. \n",
      "\u001b[1;31mCommand: '\"c:/Users/João Lucas Pereira/AppData/Local/Microsoft/WindowsApps/python3.11.exe\" -m pip install ipykernel -U --user --force-reinstall'"
     ]
    }
   ],
   "source": [
    "f, ax = plt.subplots(1,2 , figsize = (18,8))\n",
    "dataset['residence_type'].value_counts().plot.bar(color = ['red','blue'], ax = ax[0])\n",
    "ax[0].set_title('Tipo de Residencia das pessoas')\n",
    "ax[0].set_ylabel('Contagem')\n",
    "\n",
    "sns.countplot('residence_type', hue = 'stroke', data= dataset, ax = ax[1])\n",
    "ax[1].set_title('Residencia: AVC vs Não AVC')\n",
    "ax[1].set_ylabel('Contagem')\n",
    "ax[1].set_xlabel(\"Tipo de Residencia\")\n",
    "\n",
    "# bem distribuido, n dá pra afirmar muita coisa..."
   ]
  },
  {
   "attachments": {},
   "cell_type": "markdown",
   "metadata": {},
   "source": [
    "##### smoking_status"
   ]
  },
  {
   "cell_type": "code",
   "execution_count": null,
   "metadata": {},
   "outputs": [
    {
     "ename": "",
     "evalue": "",
     "output_type": "error",
     "traceback": [
      "\u001b[1;31mRunning cells with 'c:\\Users\\João Lucas Pereira\\AppData\\Local\\Microsoft\\WindowsApps\\python3.11.exe' requires the ipykernel package.\n",
      "\u001b[1;31mRun the following command to install 'ipykernel' into the Python environment. \n",
      "\u001b[1;31mCommand: '\"c:/Users/João Lucas Pereira/AppData/Local/Microsoft/WindowsApps/python3.11.exe\" -m pip install ipykernel -U --user --force-reinstall'"
     ]
    }
   ],
   "source": [
    "pd.crosstab(dataset.smoking_status,\n",
    "            dataset.stroke, \n",
    "            margins = True).style.background_gradient(cmap = 'summer_r')"
   ]
  },
  {
   "cell_type": "code",
   "execution_count": null,
   "metadata": {},
   "outputs": [
    {
     "ename": "",
     "evalue": "",
     "output_type": "error",
     "traceback": [
      "\u001b[1;31mRunning cells with 'c:\\Users\\João Lucas Pereira\\AppData\\Local\\Microsoft\\WindowsApps\\python3.11.exe' requires the ipykernel package.\n",
      "\u001b[1;31mRun the following command to install 'ipykernel' into the Python environment. \n",
      "\u001b[1;31mCommand: '\"c:/Users/João Lucas Pereira/AppData/Local/Microsoft/WindowsApps/python3.11.exe\" -m pip install ipykernel -U --user --force-reinstall'"
     ]
    }
   ],
   "source": [
    "f, ax = plt.subplots(1,2 , figsize = (18,8))\n",
    "dataset['smoking_status'].value_counts().plot.bar(color = ['r','b','g'], ax = ax[0])\n",
    "ax[0].set_title('Número de Passageiros por Classe')\n",
    "ax[0].set_ylabel('Contagem')\n",
    "\n",
    "sns.countplot('smoking_status', hue = 'stroke', data= dataset, ax = ax[1])\n",
    "ax[1].set_title('Pclass: Sobreviventes vs Mortos')\n",
    "ax[1].set_ylabel('Contagem')\n",
    "ax[1].set_xlabel(\"Tipo de Classe\")"
   ]
  },
  {
   "cell_type": "code",
   "execution_count": null,
   "metadata": {},
   "outputs": [
    {
     "ename": "",
     "evalue": "",
     "output_type": "error",
     "traceback": [
      "\u001b[1;31mRunning cells with 'c:\\Users\\João Lucas Pereira\\AppData\\Local\\Microsoft\\WindowsApps\\python3.11.exe' requires the ipykernel package.\n",
      "\u001b[1;31mRun the following command to install 'ipykernel' into the Python environment. \n",
      "\u001b[1;31mCommand: '\"c:/Users/João Lucas Pereira/AppData/Local/Microsoft/WindowsApps/python3.11.exe\" -m pip install ipykernel -U --user --force-reinstall'"
     ]
    }
   ],
   "source": [
    "pd.crosstab([dataset.gender,\n",
    "             dataset.stroke],\n",
    "            dataset.smoking_status, \n",
    "            margins = True).style.background_gradient(cmap = 'summer_r')"
   ]
  },
  {
   "cell_type": "code",
   "execution_count": null,
   "metadata": {},
   "outputs": [
    {
     "ename": "",
     "evalue": "",
     "output_type": "error",
     "traceback": [
      "\u001b[1;31mRunning cells with 'c:\\Users\\João Lucas Pereira\\AppData\\Local\\Microsoft\\WindowsApps\\python3.11.exe' requires the ipykernel package.\n",
      "\u001b[1;31mRun the following command to install 'ipykernel' into the Python environment. \n",
      "\u001b[1;31mCommand: '\"c:/Users/João Lucas Pereira/AppData/Local/Microsoft/WindowsApps/python3.11.exe\" -m pip install ipykernel -U --user --force-reinstall'"
     ]
    }
   ],
   "source": [
    "sns.factorplot('smoking_status', 'stroke', hue = \"gender\", data=dataset)\n",
    "plt.show()"
   ]
  },
  {
   "attachments": {},
   "cell_type": "markdown",
   "metadata": {},
   "source": [
    "##### age"
   ]
  },
  {
   "cell_type": "code",
   "execution_count": null,
   "metadata": {},
   "outputs": [
    {
     "ename": "",
     "evalue": "",
     "output_type": "error",
     "traceback": [
      "\u001b[1;31mRunning cells with 'c:\\Users\\João Lucas Pereira\\AppData\\Local\\Microsoft\\WindowsApps\\python3.11.exe' requires the ipykernel package.\n",
      "\u001b[1;31mRun the following command to install 'ipykernel' into the Python environment. \n",
      "\u001b[1;31mCommand: '\"c:/Users/João Lucas Pereira/AppData/Local/Microsoft/WindowsApps/python3.11.exe\" -m pip install ipykernel -U --user --force-reinstall'"
     ]
    }
   ],
   "source": [
    "print((\"A pessoa mais velha tinha {} anos\").format(dataset['age'].max()))\n",
    "print((\"A pessoa mais nova tinha {} anos\").format(dataset['age'].min()))\n",
    "print((\"A média de idade das pessoas era de: {} anos\").format(dataset['age'].mean()))"
   ]
  },
  {
   "cell_type": "code",
   "execution_count": null,
   "metadata": {},
   "outputs": [
    {
     "ename": "",
     "evalue": "",
     "output_type": "error",
     "traceback": [
      "\u001b[1;31mRunning cells with 'c:\\Users\\João Lucas Pereira\\AppData\\Local\\Microsoft\\WindowsApps\\python3.11.exe' requires the ipykernel package.\n",
      "\u001b[1;31mRun the following command to install 'ipykernel' into the Python environment. \n",
      "\u001b[1;31mCommand: '\"c:/Users/João Lucas Pereira/AppData/Local/Microsoft/WindowsApps/python3.11.exe\" -m pip install ipykernel -U --user --force-reinstall'"
     ]
    }
   ],
   "source": [
    "f, ax = plt.subplots(1,2, figsize = (18,8))\n",
    "\n",
    "#Violinplot é um gráfico em que podemos analisar mais de uma variável, portanto, o desenho é uma figura.\n",
    "\n",
    "sns.violinplot(\"smoking_status\", # eixo X\n",
    "               \"age\", # eixo Y\n",
    "               hue = \"stroke\", #diferenciação de sobrevivência \n",
    "               data=  dataset, #declarando o dataframe\n",
    "               split = True, #divide fazendo \"metade azul e metade vermelho\"\n",
    "               ax = ax[0]) # declara qual é a figura que vamos plotar\n",
    "ax[0].set_title(\"Pclass e Idade por Sobrevivência\")\n",
    "ax[0].set_yticks(range(10,110,10)) # serve para colocar linhas no eixo y, de 0 a 110, de 10 em 10.\n",
    "\n",
    "sns.violinplot(\"gender\", #eixo x\n",
    "               \"age\", # eixo y\n",
    "               hue = \"stroke\", # a diferenciação \n",
    "               data = dataset, # dataframe\n",
    "               split = True, # dividir\n",
    "               ax = ax[1]) # declara a coluna onde será plotado.\n",
    "\n",
    "ax[1].set_title(\"Sexo e Idade por Sobrevivência\")\n",
    "ax[1].set_yticks(range(10,110,10))\n",
    "\n",
    "plt.show()"
   ]
  },
  {
   "cell_type": "code",
   "execution_count": null,
   "metadata": {},
   "outputs": [
    {
     "ename": "",
     "evalue": "",
     "output_type": "error",
     "traceback": [
      "\u001b[1;31mRunning cells with 'c:\\Users\\João Lucas Pereira\\AppData\\Local\\Microsoft\\WindowsApps\\python3.11.exe' requires the ipykernel package.\n",
      "\u001b[1;31mRun the following command to install 'ipykernel' into the Python environment. \n",
      "\u001b[1;31mCommand: '\"c:/Users/João Lucas Pereira/AppData/Local/Microsoft/WindowsApps/python3.11.exe\" -m pip install ipykernel -U --user --force-reinstall'"
     ]
    }
   ],
   "source": [
    "f, ax = plt.subplots(1,2, figsize = (20,10))\n",
    "\n",
    "#grafico 1\n",
    "dataset[dataset['stroke'] == 0].age.plot.hist(ax = ax[0],\n",
    "                                          bins = 20,\n",
    "                                          edgecolor = 'black',\n",
    "                                          color = 'red')\n",
    "ax[0].set_title('stroke = 0')\n",
    "x1 = list(range(0,85,5))\n",
    "ax[0].set_xticks(x1)\n",
    "\n",
    "#grafico 2\n",
    "dataset[dataset['stroke'] == 1].age.plot.hist(ax = ax[1],\n",
    "                                          color = 'green', \n",
    "                                          bins = 20, \n",
    "                                          edgecolor = 'black')\n",
    "ax[1].set_title('stroke = 1')\n",
    "x2 = list(range(0, 85, 5))\n",
    "ax[1].set_xticks(x2)\n",
    "\n",
    "plt.show()"
   ]
  },
  {
   "attachments": {},
   "cell_type": "markdown",
   "metadata": {},
   "source": [
    "avc acontece em pessoas mais velhas.........."
   ]
  },
  {
   "attachments": {},
   "cell_type": "markdown",
   "metadata": {},
   "source": [
    "### **3) Normalizando os dados**"
   ]
  },
  {
   "attachments": {},
   "cell_type": "markdown",
   "metadata": {},
   "source": [
    "Na etapa de pré-processamento dos dados, é necessário realizar a normalização dos dados para permitir que a maioria dos algoritmos de classificação trabalhe com eles de forma adequada. No caso específico do nosso projeto, precisamos lidar com dados categóricos, ou seja, variáveis que representam diferentes categorias ou classes.\n",
    "\n",
    "**Para transformar esses dados categóricos em dados numéricos, utilizaremos o método `pd.get_dummies()` da biblioteca pandas.** Esse método permite a aplicação da técnica conhecida como codificação one-hot (one-hot encoding), **em que cada categoria é convertida em uma nova coluna binária, representando a presença ou ausência daquela categoria para cada exemplo.**\n",
    "\n",
    "> Ao aplicar o `pd.get_dummies()` ao nosso dataset, ele irá analisar as colunas que contêm dados categóricos e criar novas colunas binárias correspondentes a cada categoria única encontrada. Dessa forma, as informações categóricas serão convertidas em informações numéricas, permitindo que os algoritmos de classificação possam utilizá-las adequadamente.\n",
    "\n",
    "Esse método de transformação é importante porque a maioria dos algoritmos de classificação requer que os dados sejam numéricos para realizar cálculos e inferências. Ao realizar a codificação one-hot, garantimos que todas as informações relevantes das variáveis categóricas sejam consideradas durante o processo de aprendizado e classificação.\n",
    "\n",
    "**Portanto, ao utilizar `dataset = pd.get_dummies(dataset)`, estaremos transformando nossos dados categóricos em dados numéricos por meio da criação de colunas binárias para cada categoria, preparando-os adequadamente para a etapa de modelagem e classificação dos algoritmos de aprendizado de máquina.**"
   ]
  },
  {
   "cell_type": "code",
   "execution_count": null,
   "metadata": {},
   "outputs": [
    {
     "ename": "",
     "evalue": "",
     "output_type": "error",
     "traceback": [
      "\u001b[1;31mRunning cells with 'c:\\Users\\João Lucas Pereira\\AppData\\Local\\Microsoft\\WindowsApps\\python3.11.exe' requires the ipykernel package.\n",
      "\u001b[1;31mRun the following command to install 'ipykernel' into the Python environment. \n",
      "\u001b[1;31mCommand: '\"c:/Users/João Lucas Pereira/AppData/Local/Microsoft/WindowsApps/python3.11.exe\" -m pip install ipykernel -U --user --force-reinstall'"
     ]
    }
   ],
   "source": [
    "dataset = pd.get_dummies(dataset)\n",
    "dataset"
   ]
  },
  {
   "attachments": {},
   "cell_type": "markdown",
   "metadata": {},
   "source": [
    "Após aplicar o método `pd.get_dummies(dataset)`, **observamos que o número de colunas aumentou de 11 para 21.** Essa expansão ocorre porque o método cria novas colunas binárias para cada categoria presente nos dados categóricos, representando a presença ou ausência de cada categoria para cada exemplo.\n",
    "\n",
    "**No entanto, é importante destacar que as colunas criadas pelo `pd.get_dummies()` representam valores \"true\" ou \"false\"** para indicar a presença ou ausência de uma determinada categoria. **Para que esses valores sejam escalados e estejam em uma faixa numérica apropriada, utilizamos o método `MinMaxScaler()`.**\n",
    "\n",
    "**Após aplicar o `MinMaxScaler()`, a variável X é atualizada para conter os dados escalados numericamente.**\n",
    "\n",
    "> A linha X = dataset.loc[:, dataset.columns != 'num'] é usada para selecionar todas as colunas, exceto a coluna de destino (target) 'num' (assumindo que 'num' é o nome da coluna que contém os rótulos/targets). <br>\n",
    "\n",
    "> Em seguida, a linha `X = pd.DataFrame(MinMaxScaler().fit_transform(X), columns=X.columns)` aplica o `MinMaxScaler()` para normalizar os valores de todas as colunas selecionadas em X e substitui X pelos dados normalizados em um novo DataFrame."
   ]
  },
  {
   "cell_type": "code",
   "execution_count": null,
   "metadata": {},
   "outputs": [
    {
     "ename": "",
     "evalue": "",
     "output_type": "error",
     "traceback": [
      "\u001b[1;31mRunning cells with 'c:\\Users\\João Lucas Pereira\\AppData\\Local\\Microsoft\\WindowsApps\\python3.11.exe' requires the ipykernel package.\n",
      "\u001b[1;31mRun the following command to install 'ipykernel' into the Python environment. \n",
      "\u001b[1;31mCommand: '\"c:/Users/João Lucas Pereira/AppData/Local/Microsoft/WindowsApps/python3.11.exe\" -m pip install ipykernel -U --user --force-reinstall'"
     ]
    }
   ],
   "source": [
    "X = dataset.loc[:, dataset.columns != 'num']\n",
    "X = pd.DataFrame(MinMaxScaler().fit_transform(X), columns=X.columns)\n",
    "X"
   ]
  },
  {
   "attachments": {},
   "cell_type": "markdown",
   "metadata": {},
   "source": [
    "Portanto, agora todos os atributos não números tiverem seus valores transformados, tornando-se atributos categóricos. **Dessa forma, estão preparados para serem utilizados no treinamento e aprendizado do modelo de aprendizado de máquina.**\n",
    "\n",
    "---"
   ]
  },
  {
   "attachments": {},
   "cell_type": "markdown",
   "metadata": {},
   "source": [
    "### **4) Correlação entre atributos**"
   ]
  },
  {
   "attachments": {},
   "cell_type": "markdown",
   "metadata": {},
   "source": [
    "A correlação entre atributos é uma medida estatística que nos permite identificar relações entre diferentes fatores presentes nos dados. *No contexto do nosso projeto, analisar a correlação é importante para compreender a influência de cada atributo na ocorrência de AVC, buscando assim modelos mais precisos e insights relevantes para prevenção dessa doença tão recorrente nos dias atuais.*\n",
    "\n",
    "Para realizar essa análise de correlação, utilizaremos a biblioteca `seaborn`. O código em questão tem como objetivo visualizar a correlação entre os atributos do dataset em relação à variável alvo \"stroke\" (AVC).\n",
    "\n",
    "Primeiro, calculamos a correlação entre cada atributo e a variável \"stroke\" usando `corr = dataset.corr()[\"stroke\"].sort_values(ascending=True)`. Isso nos fornece uma série ordenada de correlações em ordem crescente. Em seguida, removemos a própria variável \"stroke\" da série de correlações usando `corr.drop(\"stroke\", inplace=True).`\n",
    "\n",
    "Em seguida, utilizamos a função `sns.barplot()` para criar um gráfico de barras. **O eixo x do gráfico representa os valores de correlação, enquanto o eixo y mostra os atributos correspondentes. Isso nos permite visualizar de forma sucinta a força e a direção da correlação entre cada atributo e a variável \"stroke\".**\n",
    "\n",
    "Por fim, adicionamos rótulos aos eixos do gráfico usando `plt.ylabel('Attributes') e plt.xlabel('Correlation with stroke')`, indicando o significado dos eixos. Por fim, chamamos `plt.show()` para exibir o gráfico."
   ]
  },
  {
   "cell_type": "code",
   "execution_count": null,
   "metadata": {},
   "outputs": [
    {
     "ename": "",
     "evalue": "",
     "output_type": "error",
     "traceback": [
      "\u001b[1;31mRunning cells with 'c:\\Users\\João Lucas Pereira\\AppData\\Local\\Microsoft\\WindowsApps\\python3.11.exe' requires the ipykernel package.\n",
      "\u001b[1;31mRun the following command to install 'ipykernel' into the Python environment. \n",
      "\u001b[1;31mCommand: '\"c:/Users/João Lucas Pereira/AppData/Local/Microsoft/WindowsApps/python3.11.exe\" -m pip install ipykernel -U --user --force-reinstall'"
     ]
    }
   ],
   "source": [
    "dataset.corrwith(dataset['stroke'])"
   ]
  },
  {
   "cell_type": "code",
   "execution_count": null,
   "metadata": {},
   "outputs": [
    {
     "ename": "",
     "evalue": "",
     "output_type": "error",
     "traceback": [
      "\u001b[1;31mRunning cells with 'c:\\Users\\João Lucas Pereira\\AppData\\Local\\Microsoft\\WindowsApps\\python3.11.exe' requires the ipykernel package.\n",
      "\u001b[1;31mRun the following command to install 'ipykernel' into the Python environment. \n",
      "\u001b[1;31mCommand: '\"c:/Users/João Lucas Pereira/AppData/Local/Microsoft/WindowsApps/python3.11.exe\" -m pip install ipykernel -U --user --force-reinstall'"
     ]
    }
   ],
   "source": [
    "corr = dataset.corr()[\"stroke\"].sort_values(ascending=True)\n",
    "corr.drop(\"stroke\", inplace=True)\n",
    "\n",
    "sns.barplot(x=corr, y=corr.index)\n",
    "plt.ylabel('Attributes')\n",
    "plt.xlabel('Correlation with stroke')\n",
    "plt.show()"
   ]
  },
  {
   "attachments": {},
   "cell_type": "markdown",
   "metadata": {},
   "source": [
    "Analisando a figura acima, pode-se ver alguns pontos interessantes :\n",
    "\n",
    "-  **A idade possui uma taxa de correlação relativamente alta (0.25) com a ocorrência do AVC.** *Além disso fatores como a hipertensão (0.14) e doenças cardíaca (0.13) estão intrisecamente ligadas ao surgimento dessa doença.*\n",
    "\n",
    "- *O atributo que informa se o homem já foi casado alguma vez na vida possui uma correlação relativamente alta (0.07) com a ocorrência de AVC.* Contudo, deve-se atentar a atributos como este, já que não é necessário que haja uma causalidade direta, tendo como base que outras variáveis não consideradas podem estar envolvidas. Por exemplo, quanto maior a idade, maior a chance da pessoa ter se casado, o que leva a uma maior probabilidade de se ter o AVC de forma indireta.\n",
    "\n",
    "---\n",
    "\n",
    "Após calcular a correlação entre cada atributo e a variável \"stroke\", **plotamos um gráfico que exibe a correlação entre todos os atributos do dataset. Essa visualização é útil para analisar as relações entre os atributos e identificar possíveis padrões ou conexões significativas entre eles.**\n",
    "\n",
    "> Analisar esses fatores é importante não apenas para compreender a influência de cada atributo na ocorrência de AVC, mas também para identificar atributos que possam ser redundantes ou apresentar correlações muito altas entre si. A identificação desses atributos redundantes é relevante para evitar a inclusão de informações duplicadas ou excessivamente similares no modelo de aprendizado de máquina, o que pode prejudicar sua capacidade de generalização e interpretabilidade."
   ]
  },
  {
   "cell_type": "code",
   "execution_count": null,
   "metadata": {},
   "outputs": [
    {
     "ename": "",
     "evalue": "",
     "output_type": "error",
     "traceback": [
      "\u001b[1;31mRunning cells with 'c:\\Users\\João Lucas Pereira\\AppData\\Local\\Microsoft\\WindowsApps\\python3.11.exe' requires the ipykernel package.\n",
      "\u001b[1;31mRun the following command to install 'ipykernel' into the Python environment. \n",
      "\u001b[1;31mCommand: '\"c:/Users/João Lucas Pereira/AppData/Local/Microsoft/WindowsApps/python3.11.exe\" -m pip install ipykernel -U --user --force-reinstall'"
     ]
    }
   ],
   "source": [
    "plt.figure(figsize=(18, 15))\n",
    "sns.heatmap(dataset.corr(),annot=True)\n",
    "plt.title(\"Correlation Heatmap\")\n",
    "plt.show()"
   ]
  },
  {
   "attachments": {},
   "cell_type": "markdown",
   "metadata": {},
   "source": [
    "**Como pode ser observado, o atributo \"age\" é o que tem maior correlação com AVC**. <br>\n",
    "\n",
    "Podemos representar essa correlação com o histograma abaixo:"
   ]
  },
  {
   "cell_type": "code",
   "execution_count": null,
   "metadata": {},
   "outputs": [
    {
     "ename": "",
     "evalue": "",
     "output_type": "error",
     "traceback": [
      "\u001b[1;31mRunning cells with 'c:\\Users\\João Lucas Pereira\\AppData\\Local\\Microsoft\\WindowsApps\\python3.11.exe' requires the ipykernel package.\n",
      "\u001b[1;31mRun the following command to install 'ipykernel' into the Python environment. \n",
      "\u001b[1;31mCommand: '\"c:/Users/João Lucas Pereira/AppData/Local/Microsoft/WindowsApps/python3.11.exe\" -m pip install ipykernel -U --user --force-reinstall'"
     ]
    }
   ],
   "source": [
    "plt.figure(figsize=(10,5))\n",
    "strokes_dataset = dataset[dataset['stroke'] == 1]\n",
    "sns.histplot(strokes_dataset['age'], color=\"red\")\n",
    "plt.title(\"age of people having stroke\")\n",
    "plt.grid()"
   ]
  },
  {
   "attachments": {},
   "cell_type": "markdown",
   "metadata": {},
   "source": [
    "Com a conclusão da fase de pré-processamento dos dados, estamos prontos para avançar para a próxima etapa do nosso projeto. **Agora, iremos aplicar algoritmos de classificação aos dados preparados, com o objetivo de construir um modelo capaz de prever a ocorrência de AVC com base nos atributos disponíveis.**\n",
    "\n",
    "---"
   ]
  },
  {
   "attachments": {},
   "cell_type": "markdown",
   "metadata": {},
   "source": [
    "# Aplicar algoritmos de classificação\n",
    "\n",
    "Agora que os dados foram preparados, podemos aplicar algoritmos de classificação aos dados preparados, com o objetivo de construir um modelo capaz de prever a ocorrência de AVC com base nos atributos disponíveis.\n",
    "\n",
    "**Nessa fase, utilizaremos diversos algoritmos de classificação, como o Naive Bayes, MLP (Multilayer Perceptron), K-Nearest Neighbors (KNN), Decision Tree, entre outros. Cada algoritmo possui suas próprias características e suposições subjacentes, o que pode impactar o desempenho e a precisão das previsões.**\n",
    "\n",
    "> Ao aplicar os algoritmos de classificação, utilizaremos uma parte dos dados para treinamento do modelo e outra parte para avaliação e validação. Essa abordagem permite estimar o desempenho do modelo em dados não vistos anteriormente e fazer ajustes necessários para melhorar sua capacidade de generalização.\n",
    "\n",
    "*Ao final dessa etapa, poderemos selecionar o algoritmo de classificação mais adequado para o nosso problema,* com base em critérios como precisão, recall, F1-score, ou outros indicadores relevantes para a tarefa de previsão de AVC. O modelo resultante poderá ser utilizado para fazer previsões em novos dados e contribuir para a identificação e prevenção de casos de AVC.\n",
    "\n",
    "Portanto, após a conclusão da fase de pré-processamento dos dados, estamos prontos para aplicar algoritmos de classificação e prosseguir com o desenvolvimento do nosso modelo de aprendizado de máquina.\n",
    "\n",
    "---"
   ]
  },
  {
   "attachments": {},
   "cell_type": "markdown",
   "metadata": {},
   "source": [
    "### **1) Aplicar o algoritmos de classificação com Árvores de Decisão**"
   ]
  },
  {
   "attachments": {},
   "cell_type": "markdown",
   "metadata": {},
   "source": [
    "**Uma árvore de decisão é uma representação visual que mostra as escolhas e caminhos a serem seguidos a partir de um nó raiz até as folhas,** na qual são tomadas as decisões finais. Cada nó representa um atributo ou característica dos dados, e os ramos que se ramificam a partir dele representam as diferentes possibilidades ou valores que esse atributo pode assumir. Essa estrutura em formato de árvore permite mapear o fluxo de decisões em um processo de tomada de decisão.\n",
    "\n",
    "> No entanto, a criação das regras que compõem a árvore de decisão requer o uso de algoritmos de Machine Learning. Esses algoritmos analisam os dados de treinamento e aprendem a definir as melhores regras de divisão nos nós da árvore, de forma a maximizar a precisão das previsões ou classificações.\n",
    "\n",
    "*Para construir uma árvore de decisão, é necessário ter os dados previamente separados em um conjunto de atributos independentes e a classe dependente*.* Os atributos independentes são as características que serão utilizadas para fazer as previsões ou classificações, enquanto a classe dependente é a variável que queremos prever ou classificar com base nesses atributos.\n",
    "\n",
    "Com base nessa estrutura de dados, podemos aplicar algoritmos de aprendizado de máquina, como o algoritmo de árvore de decisão, para criar a árvore e definir as regras que irão orientar a tomada de decisão com base nos atributos disponíveis."
   ]
  },
  {
   "cell_type": "code",
   "execution_count": null,
   "metadata": {},
   "outputs": [
    {
     "ename": "",
     "evalue": "",
     "output_type": "error",
     "traceback": [
      "\u001b[1;31mRunning cells with 'c:\\Users\\João Lucas Pereira\\AppData\\Local\\Microsoft\\WindowsApps\\python3.11.exe' requires the ipykernel package.\n",
      "\u001b[1;31mRun the following command to install 'ipykernel' into the Python environment. \n",
      "\u001b[1;31mCommand: '\"c:/Users/João Lucas Pereira/AppData/Local/Microsoft/WindowsApps/python3.11.exe\" -m pip install ipykernel -U --user --force-reinstall'"
     ]
    }
   ],
   "source": [
    "# Separando o dataset no conjunto de atributos X e classe y.\n",
    "X = dataset.loc[:, dataset.columns != 'stroke']\n",
    "y = np.array(dataset.loc[:, dataset.columns == 'stroke']).ravel()"
   ]
  },
  {
   "attachments": {},
   "cell_type": "markdown",
   "metadata": {},
   "source": [
    "> Para criar os dados de treinamento e de testes, poderiamos utilizar a função `train_test_split` como descrito abaixo. **No entanto, isso não será necessário, uma vez que iremos aplicar a validação cruzada (10-fold cross validation),** a qual fornece uma estimativa mais confiável da acurácia do modelo em comparação com uma única divisão de treinamento/teste."
   ]
  },
  {
   "cell_type": "code",
   "execution_count": null,
   "metadata": {},
   "outputs": [
    {
     "ename": "",
     "evalue": "",
     "output_type": "error",
     "traceback": [
      "\u001b[1;31mRunning cells with 'c:\\Users\\João Lucas Pereira\\AppData\\Local\\Microsoft\\WindowsApps\\python3.11.exe' requires the ipykernel package.\n",
      "\u001b[1;31mRun the following command to install 'ipykernel' into the Python environment. \n",
      "\u001b[1;31mCommand: '\"c:/Users/João Lucas Pereira/AppData/Local/Microsoft/WindowsApps/python3.11.exe\" -m pip install ipykernel -U --user --force-reinstall'"
     ]
    }
   ],
   "source": [
    "X_train, X_test, y_train, y_test = train_test_split(X, y, test_size=0.25, stratify=y, random_state=42)"
   ]
  },
  {
   "attachments": {},
   "cell_type": "markdown",
   "metadata": {},
   "source": [
    "Já com os dados de testes em mão, pode-se criar um modelo de árvore de decisão. No bloco abaixo, foi passado o *parâmetro 'gini' como critério do algortimo - o que implica que será utilizado o índice de impureza de Gini para calcular a qualidade da divisão.* **Já o termo \"random_state\" apenas garante a aleatoriedade do algoritmo.**"
   ]
  },
  {
   "cell_type": "code",
   "execution_count": null,
   "metadata": {},
   "outputs": [
    {
     "ename": "",
     "evalue": "",
     "output_type": "error",
     "traceback": [
      "\u001b[1;31mRunning cells with 'c:\\Users\\João Lucas Pereira\\AppData\\Local\\Microsoft\\WindowsApps\\python3.11.exe' requires the ipykernel package.\n",
      "\u001b[1;31mRun the following command to install 'ipykernel' into the Python environment. \n",
      "\u001b[1;31mCommand: '\"c:/Users/João Lucas Pereira/AppData/Local/Microsoft/WindowsApps/python3.11.exe\" -m pip install ipykernel -U --user --force-reinstall'"
     ]
    }
   ],
   "source": [
    "clf = DecisionTreeClassifier(criterion='gini', random_state=42)  # Criando o classificador da Árvore de Decisão"
   ]
  },
  {
   "cell_type": "code",
   "execution_count": null,
   "metadata": {},
   "outputs": [
    {
     "ename": "",
     "evalue": "",
     "output_type": "error",
     "traceback": [
      "\u001b[1;31mRunning cells with 'c:\\Users\\João Lucas Pereira\\AppData\\Local\\Microsoft\\WindowsApps\\python3.11.exe' requires the ipykernel package.\n",
      "\u001b[1;31mRun the following command to install 'ipykernel' into the Python environment. \n",
      "\u001b[1;31mCommand: '\"c:/Users/João Lucas Pereira/AppData/Local/Microsoft/WindowsApps/python3.11.exe\" -m pip install ipykernel -U --user --force-reinstall'"
     ]
    }
   ],
   "source": [
    "plt.figure(figsize=(20,10))\n",
    "plot_tree(clf,feature_names=data.drop('stroke',axis=1).columns,max_depth = 2,filled=True,class_names = True)\n",
    "plt.show()"
   ]
  },
  {
   "attachments": {},
   "cell_type": "markdown",
   "metadata": {},
   "source": [
    "Pode-se plotar a árvore para visualizar seu tamanho."
   ]
  },
  {
   "cell_type": "code",
   "execution_count": null,
   "metadata": {},
   "outputs": [
    {
     "ename": "",
     "evalue": "",
     "output_type": "error",
     "traceback": [
      "\u001b[1;31mRunning cells with 'c:\\Users\\João Lucas Pereira\\AppData\\Local\\Microsoft\\WindowsApps\\python3.11.exe' requires the ipykernel package.\n",
      "\u001b[1;31mRun the following command to install 'ipykernel' into the Python environment. \n",
      "\u001b[1;31mCommand: '\"c:/Users/João Lucas Pereira/AppData/Local/Microsoft/WindowsApps/python3.11.exe\" -m pip install ipykernel -U --user --force-reinstall'"
     ]
    }
   ],
   "source": [
    "dot_data = StringIO()\n",
    "export_graphviz(clf, out_file=dot_data,  \n",
    "                filled=True, rounded=True,\n",
    "                special_characters=True)\n",
    "graph = pydotplus.graph_from_dot_data(dot_data.getvalue())  \n",
    "#graph.write_png('diabetes.png')\n",
    "Image(graph.create_png())"
   ]
  },
  {
   "attachments": {},
   "cell_type": "markdown",
   "metadata": {},
   "source": [
    "---\n",
    "\n",
    "Vamos realizar agora, o treino do modelo, fazendo uso da validação cruzada.\n",
    "\n",
    "**A validação cruzada é uma técnica que permite avaliar o desempenho do modelo em um conjunto de dados de forma mais precisa.** Ela consiste em dividir o conjunto de dados em k partes iguais, chamadas de folds, sendo k um valor determinado previamente.\n",
    "\n",
    "No código apresentado, utilizamos a função `cross_val_score` para realizar a validação cruzada. Essa função recebe como parâmetros o classificador `clf` *(no caso, o algoritmo de árvore de decisão)*, os atributos X e a variável alvo y. O parâmetro `cv` *é utilizado para definir o número de folds, sendo 10 no exemplo.*\n",
    "\n",
    "**A função cross_val_score executa o treinamento e a avaliação do modelo utilizando a validação cruzada. Ela retorna uma lista de pontuações (scores) obtidas para cada fold do conjunto de dados.** Essas pontuações podem representar métricas de desempenho, como acurácia, precisão, recall, entre outras, dependendo do classificador e da tarefa em questão.\n",
    "\n",
    "> No código, a variável dt_scores armazena as pontuações obtidas para cada fold do modelo treinado utilizando a validação cruzada. Essas pontuações podem ser utilizadas posteriormente para analisar a performance média do modelo e avaliar sua consistência em diferentes conjuntos de dados."
   ]
  },
  {
   "cell_type": "code",
   "execution_count": null,
   "metadata": {},
   "outputs": [
    {
     "ename": "",
     "evalue": "",
     "output_type": "error",
     "traceback": [
      "\u001b[1;31mRunning cells with 'c:\\Users\\João Lucas Pereira\\AppData\\Local\\Microsoft\\WindowsApps\\python3.11.exe' requires the ipykernel package.\n",
      "\u001b[1;31mRun the following command to install 'ipykernel' into the Python environment. \n",
      "\u001b[1;31mCommand: '\"c:/Users/João Lucas Pereira/AppData/Local/Microsoft/WindowsApps/python3.11.exe\" -m pip install ipykernel -U --user --force-reinstall'"
     ]
    }
   ],
   "source": [
    "dt_scores = cross_val_score(clf, X, y, cv=10)\n",
    "dt_scores"
   ]
  },
  {
   "attachments": {},
   "cell_type": "markdown",
   "metadata": {},
   "source": [
    "Por último, pode-se calcular a acurácia do modelo."
   ]
  },
  {
   "cell_type": "code",
   "execution_count": null,
   "metadata": {},
   "outputs": [
    {
     "ename": "",
     "evalue": "",
     "output_type": "error",
     "traceback": [
      "\u001b[1;31mRunning cells with 'c:\\Users\\João Lucas Pereira\\AppData\\Local\\Microsoft\\WindowsApps\\python3.11.exe' requires the ipykernel package.\n",
      "\u001b[1;31mRun the following command to install 'ipykernel' into the Python environment. \n",
      "\u001b[1;31mCommand: '\"c:/Users/João Lucas Pereira/AppData/Local/Microsoft/WindowsApps/python3.11.exe\" -m pip install ipykernel -U --user --force-reinstall'"
     ]
    }
   ],
   "source": [
    "tree_classifier_accuracy = dt_scores.mean()\n",
    "print(f'A acurácia do Classificador é: {tree_classifier_accuracy :.2%}')"
   ]
  },
  {
   "attachments": {},
   "cell_type": "markdown",
   "metadata": {},
   "source": [
    "---\n",
    "\n",
    "### **2) Aplicar o algoritmos de classificação com K-Nearest Neighbors (KNN)**"
   ]
  },
  {
   "attachments": {},
   "cell_type": "markdown",
   "metadata": {},
   "source": [
    "O algoritmo de classificação com K-Nearest Neighbors (KNN) é um classificador que tem como base para a classificação a similaridade de um dado com seus vizinhos mais próximos. **Neste âmbito, quando um conjunto de dados a ser classificado é apresentado para o algortimo, o mesmo calcula a distância entre os dados novos com os já usados no treinamento.** *A partir destas distâncias, a classificação ocorre com base nos 'k' vizinhos mais próximos dos dados introduzidos.*\n"
   ]
  },
  {
   "attachments": {},
   "cell_type": "markdown",
   "metadata": {},
   "source": [
    "Na implementação realizada, a variável knn é instanciada como um objeto da classe KNeighborsClassifier. Em seguida, a função `GridSearchCV` faz uma busca em grade com o intuito de achar a melhor combinação de parâmetros de um classificador KNN. \n",
    "\n",
    "Nessa função em específico, é passado como parâmetro:\n",
    "\n",
    "1. O objeto do classificador `knn`;\n",
    "2. Um dicionário que contém a quantidade de vizinhos a serem variadas para a escolha do melhor parâmetro; \n",
    "3. Um número relativo a quantidade de partições utilizadas na validação cruzada e a métrica de avaliação utilizada para medir o desempenho do classificador.\n",
    "\n",
    "**Em seguida, o método fit treina o modelo com os dados de treinamento.**"
   ]
  },
  {
   "cell_type": "code",
   "execution_count": null,
   "metadata": {},
   "outputs": [
    {
     "ename": "",
     "evalue": "",
     "output_type": "error",
     "traceback": [
      "\u001b[1;31mRunning cells with 'c:\\Users\\João Lucas Pereira\\AppData\\Local\\Microsoft\\WindowsApps\\python3.11.exe' requires the ipykernel package.\n",
      "\u001b[1;31mRun the following command to install 'ipykernel' into the Python environment. \n",
      "\u001b[1;31mCommand: '\"c:/Users/João Lucas Pereira/AppData/Local/Microsoft/WindowsApps/python3.11.exe\" -m pip install ipykernel -U --user --force-reinstall'"
     ]
    }
   ],
   "source": [
    "parameters = {'n_neighbors' : [1, 3, 5, 7, 9, 11, 13], 'weights' : ['uniform', 'distance']}\n",
    "\n",
    "knn = KNeighborsClassifier()\n",
    "gs = GridSearchCV(knn, parameters, cv=10, scoring='accuracy')\n",
    "gs.fit(X, y)"
   ]
  },
  {
   "attachments": {},
   "cell_type": "markdown",
   "metadata": {},
   "source": [
    "Depois de realizada a busca em grade, pode-se acessar o atributo cv_results - que contém informações relevantes das combinações de parâmetros testadas. Para melhor visualização, utilizou-se um dataframe para dispor os resultados em uma tabela."
   ]
  },
  {
   "cell_type": "code",
   "execution_count": null,
   "metadata": {},
   "outputs": [
    {
     "ename": "",
     "evalue": "",
     "output_type": "error",
     "traceback": [
      "\u001b[1;31mRunning cells with 'c:\\Users\\João Lucas Pereira\\AppData\\Local\\Microsoft\\WindowsApps\\python3.11.exe' requires the ipykernel package.\n",
      "\u001b[1;31mRun the following command to install 'ipykernel' into the Python environment. \n",
      "\u001b[1;31mCommand: '\"c:/Users/João Lucas Pereira/AppData/Local/Microsoft/WindowsApps/python3.11.exe\" -m pip install ipykernel -U --user --force-reinstall'"
     ]
    }
   ],
   "source": [
    "results = pd.DataFrame(gs.cv_results_)\n",
    "results"
   ]
  },
  {
   "attachments": {},
   "cell_type": "markdown",
   "metadata": {},
   "source": [
    "Posteriormente, filtrou-se a tabela para se ter apenas os parâmetros mais importantes. Neste âmbito, foi deixada apenas as colunas referentes as chaves:\n",
    "\n",
    "**'params':** Refere-se a combinação de parâmetros em questão\n",
    "\n",
    "**'mean_test_score':** Pontuação média da validação cruzada \n",
    "\n",
    "**'std_test_score':** Desvio padrão das pontuações da validação cruzada\n",
    "\n",
    "**'rank_test_score':** Ranking das pontuações da validação cruzada\n"
   ]
  },
  {
   "cell_type": "code",
   "execution_count": null,
   "metadata": {},
   "outputs": [
    {
     "ename": "",
     "evalue": "",
     "output_type": "error",
     "traceback": [
      "\u001b[1;31mRunning cells with 'c:\\Users\\João Lucas Pereira\\AppData\\Local\\Microsoft\\WindowsApps\\python3.11.exe' requires the ipykernel package.\n",
      "\u001b[1;31mRun the following command to install 'ipykernel' into the Python environment. \n",
      "\u001b[1;31mCommand: '\"c:/Users/João Lucas Pereira/AppData/Local/Microsoft/WindowsApps/python3.11.exe\" -m pip install ipykernel -U --user --force-reinstall'"
     ]
    }
   ],
   "source": [
    "view = ['params', 'mean_test_score', 'std_test_score', 'rank_test_score']\n",
    "results[view].sort_values(by='rank_test_score')"
   ]
  },
  {
   "cell_type": "code",
   "execution_count": null,
   "metadata": {},
   "outputs": [
    {
     "ename": "",
     "evalue": "",
     "output_type": "error",
     "traceback": [
      "\u001b[1;31mRunning cells with 'c:\\Users\\João Lucas Pereira\\AppData\\Local\\Microsoft\\WindowsApps\\python3.11.exe' requires the ipykernel package.\n",
      "\u001b[1;31mRun the following command to install 'ipykernel' into the Python environment. \n",
      "\u001b[1;31mCommand: '\"c:/Users/João Lucas Pereira/AppData/Local/Microsoft/WindowsApps/python3.11.exe\" -m pip install ipykernel -U --user --force-reinstall'"
     ]
    }
   ],
   "source": [
    "gs.best_estimator_"
   ]
  },
  {
   "cell_type": "code",
   "execution_count": null,
   "metadata": {},
   "outputs": [
    {
     "ename": "",
     "evalue": "",
     "output_type": "error",
     "traceback": [
      "\u001b[1;31mRunning cells with 'c:\\Users\\João Lucas Pereira\\AppData\\Local\\Microsoft\\WindowsApps\\python3.11.exe' requires the ipykernel package.\n",
      "\u001b[1;31mRun the following command to install 'ipykernel' into the Python environment. \n",
      "\u001b[1;31mCommand: '\"c:/Users/João Lucas Pereira/AppData/Local/Microsoft/WindowsApps/python3.11.exe\" -m pip install ipykernel -U --user --force-reinstall'"
     ]
    }
   ],
   "source": [
    "knn_classifier_accuracy = gs.best_score_\n",
    "print(f'A acurácia do Classificador é: {knn_classifier_accuracy :.2%}')"
   ]
  },
  {
   "attachments": {},
   "cell_type": "markdown",
   "metadata": {},
   "source": [
    "---\n",
    "\n",
    "### **3) Aplicar o algoritmos de classificação com Multilayer Perceptron (MLP)**\n",
    "\n",
    "\n",
    "**O MLP (Multilayer Perceptron) é um algoritmo de classificação que se baseia em um modelo inspirado no funcionamento do cérebro humano.** Ele é capaz de aprender a reconhecer padrões e fazer previsões com base em dados.\n",
    "\n",
    "> O MLP é composto por várias camadas de \"neurônios\" interconectados, que processam as informações de entrada e geram uma resposta de saída. Cada neurônio recebe as informações de entrada, realiza um cálculo e passa a informação para o próximo neurônio, até chegar à camada de saída, onde é feita a classificação final.\n",
    "\n",
    "Durante o treinamento, *o MLP ajusta os \"pesos\" das conexões entre os neurônios para que o modelo seja capaz de fazer previsões corretas. Isso é feito comparando as respostas do modelo com os exemplos corretos fornecidos durante o treinamento e realizando ajustes nos pesos para melhorar as previsões.*\n",
    "\n",
    "Na implementação realizada, a variável mlp é instanciada como um objeto da classe MLPClassifier. Em seguida, a função `GridSearchCV` faz uma busca em grade com o intuito de achar a melhor combinação de parâmetros de um classificador MLP.\n",
    "\n",
    "Nessa função em específico, é passado como parâmetro:\n",
    "\n",
    "\n",
    "1. O objeto do classificador `mlp`;\n",
    "2. Um dicionário que contém a quantidade de vizinhos a serem variadas para a escolha do melhor parâmetro;\n",
    "3. Um número relativo a quantidade de partições utilizadas na validação cruzada e a métrica de avaliação utilizada para medir o desempenho do classificador.\n",
    "\n",
    "**Em seguida, o método fit treina o modelo com os dados de treinamento.**"
   ]
  },
  {
   "cell_type": "code",
   "execution_count": null,
   "metadata": {},
   "outputs": [
    {
     "ename": "",
     "evalue": "",
     "output_type": "error",
     "traceback": [
      "\u001b[1;31mRunning cells with 'c:\\Users\\João Lucas Pereira\\AppData\\Local\\Microsoft\\WindowsApps\\python3.11.exe' requires the ipykernel package.\n",
      "\u001b[1;31mRun the following command to install 'ipykernel' into the Python environment. \n",
      "\u001b[1;31mCommand: '\"c:/Users/João Lucas Pereira/AppData/Local/Microsoft/WindowsApps/python3.11.exe\" -m pip install ipykernel -U --user --force-reinstall'"
     ]
    }
   ],
   "source": [
    "parameters = {'hidden_layer_sizes' : [(5), (8), (15), (5, 3), (8, 5), (10, 5)],\n",
    "              'max_iter' : [3000], 'random_state' : [42]}\n",
    "\n",
    "mlp = MLPClassifier()\n",
    "gs_mlp = GridSearchCV(mlp, parameters, cv=10, scoring='accuracy')\n",
    "gs_mlp.fit(X, y)"
   ]
  },
  {
   "cell_type": "code",
   "execution_count": null,
   "metadata": {},
   "outputs": [
    {
     "ename": "",
     "evalue": "",
     "output_type": "error",
     "traceback": [
      "\u001b[1;31mRunning cells with 'c:\\Users\\João Lucas Pereira\\AppData\\Local\\Microsoft\\WindowsApps\\python3.11.exe' requires the ipykernel package.\n",
      "\u001b[1;31mRun the following command to install 'ipykernel' into the Python environment. \n",
      "\u001b[1;31mCommand: '\"c:/Users/João Lucas Pereira/AppData/Local/Microsoft/WindowsApps/python3.11.exe\" -m pip install ipykernel -U --user --force-reinstall'"
     ]
    }
   ],
   "source": [
    "view = ['params', 'mean_test_score', 'std_test_score', 'rank_test_score']\n",
    "results = pd.DataFrame(gs_mlp.cv_results_)\n",
    "results[view].sort_values(by='rank_test_score')"
   ]
  },
  {
   "cell_type": "code",
   "execution_count": null,
   "metadata": {},
   "outputs": [
    {
     "ename": "",
     "evalue": "",
     "output_type": "error",
     "traceback": [
      "\u001b[1;31mRunning cells with 'c:\\Users\\João Lucas Pereira\\AppData\\Local\\Microsoft\\WindowsApps\\python3.11.exe' requires the ipykernel package.\n",
      "\u001b[1;31mRun the following command to install 'ipykernel' into the Python environment. \n",
      "\u001b[1;31mCommand: '\"c:/Users/João Lucas Pereira/AppData/Local/Microsoft/WindowsApps/python3.11.exe\" -m pip install ipykernel -U --user --force-reinstall'"
     ]
    }
   ],
   "source": [
    "gs.best_estimator_"
   ]
  },
  {
   "cell_type": "code",
   "execution_count": null,
   "metadata": {},
   "outputs": [
    {
     "ename": "",
     "evalue": "",
     "output_type": "error",
     "traceback": [
      "\u001b[1;31mRunning cells with 'c:\\Users\\João Lucas Pereira\\AppData\\Local\\Microsoft\\WindowsApps\\python3.11.exe' requires the ipykernel package.\n",
      "\u001b[1;31mRun the following command to install 'ipykernel' into the Python environment. \n",
      "\u001b[1;31mCommand: '\"c:/Users/João Lucas Pereira/AppData/Local/Microsoft/WindowsApps/python3.11.exe\" -m pip install ipykernel -U --user --force-reinstall'"
     ]
    }
   ],
   "source": [
    "mlp_classifier_accuracy = gs.best_score_\n",
    "print(f'A acurácia do Classificador é: {mlp_classifier_accuracy :.2%}')"
   ]
  },
  {
   "attachments": {},
   "cell_type": "markdown",
   "metadata": {},
   "source": [
    "---\n",
    "\n",
    "### **4) Aplicar o algoritmos de classificação com Naive-Bayes**"
   ]
  },
  {
   "attachments": {},
   "cell_type": "markdown",
   "metadata": {},
   "source": [
    "**O algoritmo de classificação de Naive-Bayes assume que todas as features são independentes entre si e que todas elas são igualmente relevantes para o resultado final** - *ou seja, isto implica que será necessário utilizar apenas uma única probabilidade para cada atributo -*o que facilita e simplifica o cálculo do modelo.\n",
    "\n",
    "> Basicamente, o algoritmo se pauta no teorema de Bayes, que descreve como calcular a probabilidade condicional de uma classe levando em conta a ocorrência de determinados atributos presentes no treinamento.\n",
    "\n",
    "A priori, **o algoritmo gera uma tabela listando as probabilidades com base na frequência com que cada classe ocorre no conjunto de treinamento.** A partir desta tabela, o algoritmo seleciona a classe com a maior probabilidade como a classe prevista para a nova instância.\n",
    "Contudo, vale ressaltar que a suposição de independência condicional muitas vezes não é válida - o que pode levar o algoritmo a realizar classificações errôneas\n"
   ]
  },
  {
   "attachments": {},
   "cell_type": "markdown",
   "metadata": {},
   "source": [
    "Na implementação realizada, foi instanciada inicialmente a variável `nb` como um objeto da classe `GaussianNB().` Em seguida, utilizando a validação cruzada, treinou-se o modelo por meio da função `cross_val_score()` - *os parâmetros passados foram o objeto do classificador, os dados já separados retirados do dataset e a quantidade de repartições da validação.*\n"
   ]
  },
  {
   "cell_type": "code",
   "execution_count": null,
   "metadata": {},
   "outputs": [
    {
     "ename": "",
     "evalue": "",
     "output_type": "error",
     "traceback": [
      "\u001b[1;31mRunning cells with 'c:\\Users\\João Lucas Pereira\\AppData\\Local\\Microsoft\\WindowsApps\\python3.11.exe' requires the ipykernel package.\n",
      "\u001b[1;31mRun the following command to install 'ipykernel' into the Python environment. \n",
      "\u001b[1;31mCommand: '\"c:/Users/João Lucas Pereira/AppData/Local/Microsoft/WindowsApps/python3.11.exe\" -m pip install ipykernel -U --user --force-reinstall'"
     ]
    }
   ],
   "source": [
    "nb = GaussianNB()\n",
    "nb_scores = cross_val_score(nb, X, y, cv=10)\n",
    "nb_scores"
   ]
  },
  {
   "attachments": {},
   "cell_type": "markdown",
   "metadata": {},
   "source": [
    "**Para analisar o quão bom foi o classificador, acessou-se o atributo da média dos scores nas 10 iterações da validação cruzada por meio do método mean().**\n"
   ]
  },
  {
   "cell_type": "code",
   "execution_count": null,
   "metadata": {},
   "outputs": [
    {
     "ename": "",
     "evalue": "",
     "output_type": "error",
     "traceback": [
      "\u001b[1;31mRunning cells with 'c:\\Users\\João Lucas Pereira\\AppData\\Local\\Microsoft\\WindowsApps\\python3.11.exe' requires the ipykernel package.\n",
      "\u001b[1;31mRun the following command to install 'ipykernel' into the Python environment. \n",
      "\u001b[1;31mCommand: '\"c:/Users/João Lucas Pereira/AppData/Local/Microsoft/WindowsApps/python3.11.exe\" -m pip install ipykernel -U --user --force-reinstall'"
     ]
    }
   ],
   "source": [
    "naive_bayes_classifier_accuracy = nb_scores.mean()\n",
    "print(f'A acurácia do Classificador é: {naive_bayes_classifier_accuracy :.2%}')"
   ]
  },
  {
   "attachments": {},
   "cell_type": "markdown",
   "metadata": {},
   "source": [
    "**É importante perceber que a acurácia desse classificador é bem abaixo, isso se da pois o O Naive Bayes é um algoritmo probabilístico simples que não possui hiperparâmetros ajustáveis.**"
   ]
  },
  {
   "attachments": {},
   "cell_type": "markdown",
   "metadata": {},
   "source": [
    "# Conclusão\n",
    "\n",
    "Para observar quais foram os melhores classificadores no presente trabalho, plotou-se as acurácias médias de cada um deles.\n"
   ]
  },
  {
   "cell_type": "code",
   "execution_count": null,
   "metadata": {},
   "outputs": [
    {
     "ename": "",
     "evalue": "",
     "output_type": "error",
     "traceback": [
      "\u001b[1;31mRunning cells with 'c:\\Users\\João Lucas Pereira\\AppData\\Local\\Microsoft\\WindowsApps\\python3.11.exe' requires the ipykernel package.\n",
      "\u001b[1;31mRun the following command to install 'ipykernel' into the Python environment. \n",
      "\u001b[1;31mCommand: '\"c:/Users/João Lucas Pereira/AppData/Local/Microsoft/WindowsApps/python3.11.exe\" -m pip install ipykernel -U --user --force-reinstall'"
     ]
    }
   ],
   "source": [
    "classifiers = ['KNN', 'Naive Bayes', 'Árvore de decisão', 'MLP']\n",
    "percentages = [knn_classifier_accuracy, naive_bayes_classifier_accuracy, tree_classifier_accuracy, mlp_classifier_accuracy]\n",
    "\n",
    "colors = ['blue', 'orange', 'green', 'red']\n",
    "positions = range(len(classifiers))\n",
    "\n",
    "plt.bar(positions, percentages, color=colors)\n",
    "\n",
    "plt.xticks(positions, classifiers)\n",
    "plt.ylabel('Porcentagem')\n",
    "\n",
    "plt.title('Porcentagem das Variáveis')\n",
    "\n",
    "plt.show()"
   ]
  },
  {
   "attachments": {},
   "cell_type": "markdown",
   "metadata": {},
   "source": [
    "Analisando os valores obtidos, percebe-se que o **classificador Naive Bayes apresentou a menor acurácia quando comparada com os outros algortimos**. Essa discrepância nos resultados ocorre principalmente devido ao fato de o *NB* ser um algoritmo simples, que se baseia em suposições que, muitas vezes, resultam na classificação incorreta da instância. Além disso, a ausência de parâmetros ajustáveis se configura como um fator limitante desse algoritmo. \n",
    "\n",
    "Já o algortimo da **Arvore de Decisão apresentou uma acurácia relativamente alta**. Vale ressaltar que esse algortimo geralmente possui um bom resultado quando se tem um conjunto de dados que apresentam características relevantes - como é o caso do dataset escolhido.\n",
    "\n",
    "Já o **KNN e o MLP apresentaram os melhores resultados** - sendo aproximadamente iguais. Isso se deve principalmente ao fato de que esses algoritmos possuem parâmetros ajustáveis. Conforme ilustrado no presente projeto, ao realizar a busca em grade, são selecionados os melhores parâmetros para o problema em questão - garantindo assim um bom desempenho para ambos os algortimos."
   ]
  }
 ],
 "metadata": {
  "kernelspec": {
   "display_name": "Python 3.9.2 64-bit",
   "language": "python",
   "name": "python3"
  },
  "language_info": {
   "codemirror_mode": {
    "name": "ipython",
    "version": 3
   },
   "file_extension": ".py",
   "mimetype": "text/x-python",
   "name": "python",
   "nbconvert_exporter": "python",
   "pygments_lexer": "ipython3",
   "version": "3.11.4"
  },
  "orig_nbformat": 4,
  "vscode": {
   "interpreter": {
    "hash": "916dbcbb3f70747c44a77c7bcd40155683ae19c65e1c03b4aa3499c5328201f1"
   }
  }
 },
 "nbformat": 4,
 "nbformat_minor": 2
}
